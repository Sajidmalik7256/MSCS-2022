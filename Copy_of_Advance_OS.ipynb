{
  "nbformat": 4,
  "nbformat_minor": 0,
  "metadata": {
    "colab": {
      "provenance": []
    },
    "kernelspec": {
      "name": "python3",
      "display_name": "Python 3"
    },
    "language_info": {
      "name": "python"
    }
  },
  "cells": [
    {
      "cell_type": "code",
      "execution_count": null,
      "metadata": {
        "id": "tqqJUOrcX2Ee"
      },
      "outputs": [],
      "source": []
    },
    {
      "cell_type": "markdown",
      "source": [
        "# Assignment **1**\n",
        "\n"
      ],
      "metadata": {
        "id": "oPBi8x0AgRZ7"
      }
    },
    {
      "cell_type": "markdown",
      "source": [
        "3.4-If you could invite anyone, living or deceased, to dinner, who\n",
        "would you invite? Make a list that includes at least three people you’d like to\n",
        "invite to dinner Then use your list to print a message to each person, inviting\n",
        "them to dinner"
      ],
      "metadata": {
        "id": "-t0TkWCOgeyp"
      }
    },
    {
      "cell_type": "markdown",
      "source": [],
      "metadata": {
        "id": "Qac9WBGTgydJ"
      }
    },
    {
      "cell_type": "code",
      "source": [
        "guest_sajid = ['Taha', 'Asad', 'Ateeq']\n",
        "\n",
        "name = guest_sajid[0].title()\n",
        "print(name + \",You are requested to come to dinner.\")\n",
        "\n",
        "name = guest_sajid[1].title()\n",
        "print(name+\",You are requested to come to dinner.\")\n",
        "\n",
        "name = guest_sajid[2].title()\n",
        "print(name + \",You are requested to come to dinner.\")"
      ],
      "metadata": {
        "colab": {
          "base_uri": "https://localhost:8080/"
        },
        "id": "a7O-ESJygcY1",
        "outputId": "ca87625f-15f3-41fc-9d6f-925c9d247caf"
      },
      "execution_count": null,
      "outputs": [
        {
          "output_type": "stream",
          "name": "stdout",
          "text": [
            "Taha,You are requested to come to dinner.\n",
            "Asad,You are requested to come to dinner.\n",
            "Ateeq,You are requested to come to dinner.\n"
          ]
        }
      ]
    },
    {
      "cell_type": "markdown",
      "source": [],
      "metadata": {
        "id": "TWTldADDgMKN"
      }
    }
  ]
}