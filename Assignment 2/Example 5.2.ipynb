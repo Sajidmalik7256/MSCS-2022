{
 "cells": [
  {
   "attachments": {},
   "cell_type": "markdown",
   "metadata": {},
   "source": [
    "5-2. More Conditional Tests: You don’t have to limit the number of tests you\n",
    "create to 10 If you want to try more comparisons, write more tests and add\n",
    "them to conditional_tests.py Have at least one True and one False result for\n",
    "each of the following:\n",
    "•\t Tests for equality and inequality with strings\n",
    "•\t Tests using the lower() function\n",
    "•\t Numerical tests involving equality and inequality, greater than and\n",
    "     less than, greater than or equal to, and less than or equal to\n",
    "•\t Tests using the and keyword and the or keyword\n",
    "•\t Test whether an item is in a list\n",
    "•\t Test whether an item is not in a list"
   ]
  },
  {
   "cell_type": "code",
   "execution_count": 5,
   "metadata": {},
   "outputs": [
    {
     "name": "stdout",
     "output_type": "stream",
     "text": [
      "False\n",
      "True\n",
      "True\n",
      "False\n",
      "\n",
      "\n",
      "False\n",
      "True\n",
      "\n",
      "\n",
      "False\n",
      "True\n",
      "True\n",
      "False\n",
      "False\n",
      "True\n",
      "\n",
      "\n",
      "False\n",
      "True\n",
      "\n",
      "\n",
      "Item is not avaialbale into the list\n"
     ]
    }
   ],
   "source": [
    "sajid_sport = 'Cricket'\n",
    "print(sajid_sport == 'Football')\n",
    "print(sajid_sport == 'Cricket')\n",
    "print(sajid_sport != 'Football')\n",
    "print(sajid_sport != 'Cricket')\n",
    "\n",
    "#Test using lower function\n",
    "print('\\n')\n",
    "print(sajid_sport.lower() == 'Cricket')\n",
    "print(sajid_sport.lower() == 'cricket')\n",
    "\n",
    "#Point 3\n",
    "print(\"\\n\")\n",
    "sajid_int = 20\n",
    "print(sajid_int == 15)  \n",
    "print(sajid_int != 30)\n",
    "print(sajid_int > 15)\n",
    "print(sajid_int < 10)\n",
    "print(sajid_int <= 10)\n",
    "print(sajid_int >= 20)\n",
    "\n",
    "#Poitn 4\n",
    "print(\"\\n\")\n",
    "position_sajid = 5\n",
    "sajid_marks = 75\n",
    "\n",
    "print(position_sajid < 5 and sajid_marks >= 70)\n",
    "print(position_sajid > 5 or sajid_marks >=70)\n",
    "\n",
    "#Check whether  item is in list or not\n",
    "print(\"\\n\")\n",
    "sajid_list = [45, 85, 56, 158, 69]\n",
    "number_sajid = 100\n",
    "for item  in sajid_list:\n",
    "    if(sajid_list == number_sajid):\n",
    "        number_sajid = True\n",
    "    if(number_sajid == True):\n",
    "\n",
    "        print(\"Item is available into the list\")\n",
    "else:\n",
    "           print(\"Item is not avaialbale into the list\")"
   ]
  }
 ],
 "metadata": {
  "kernelspec": {
   "display_name": "Python 3",
   "language": "python",
   "name": "python3"
  },
  "language_info": {
   "codemirror_mode": {
    "name": "ipython",
    "version": 3
   },
   "file_extension": ".py",
   "mimetype": "text/x-python",
   "name": "python",
   "nbconvert_exporter": "python",
   "pygments_lexer": "ipython3",
   "version": "3.11.0 (main, Oct 24 2022, 18:26:48) [MSC v.1933 64 bit (AMD64)]"
  },
  "orig_nbformat": 4,
  "vscode": {
   "interpreter": {
    "hash": "05dc08513bf3f9b7cecff5fa4ab0bb809b7f929dddcd751bd51e73c5720cd844"
   }
  }
 },
 "nbformat": 4,
 "nbformat_minor": 2
}
