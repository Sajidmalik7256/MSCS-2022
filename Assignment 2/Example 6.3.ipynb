{
 "cells": [
  {
   "attachments": {},
   "cell_type": "markdown",
   "metadata": {},
   "source": [
    "6-3. Glossary: A Python dictionary can be used to model an actual dictionary\n",
    "However, to avoid confusion, let’s call it a glossary\n",
    "•\t Think of five programming words you’ve learned about in the previous\n",
    "chapters Use these words as the keys in your glossary, and store their\n",
    "meanings as values\n",
    "•\t Print each word and its meaning as neatly formatted output You might\n",
    "print the word followed by a colon and then its meaning, or print the word\n",
    "on one line and then print its meaning indented on a second line Use the\n",
    "newline character (\\n) to insert a blank line between each word-meaning\n",
    "pair in your outp"
   ]
  },
  {
   "cell_type": "code",
   "execution_count": 8,
   "metadata": {},
   "outputs": [
    {
     "name": "stdout",
     "output_type": "stream",
     "text": [
      "\n",
      "String:\n",
      "A series of characters.\n",
      "\n",
      "Comment:\n",
      "A note in the Program that the python interpreter ignores.\n",
      "\n",
      "List:\n",
      "A collection of items in a particular order\n",
      "\n",
      "Dictionary:\n",
      "A collection of key-value pairs.\n",
      "\n",
      "Loop:\n",
      "Work through a collection of items, one at a time.\n"
     ]
    }
   ],
   "source": [
    "sajid_glossary = {\n",
    "    'string' : 'A series of characters.', \n",
    "    'comment' : 'A note in the Program that the python interpreter ignores.',\n",
    "    'list' : 'A collection of items in a particular order',\n",
    "    'dictionary' : 'A collection of key-value pairs.',\n",
    "    'loop' : 'Work through a collection of items, one at a time.'\n",
    "}\n",
    "word = 'string'\n",
    "print('\\n' + word.title() + \":\" +'\\n' + sajid_glossary[word])\n",
    "\n",
    "word = 'comment'\n",
    "print('\\n' + word.title() + \":\" +'\\n' + sajid_glossary[word])\n",
    "\n",
    "word = 'list'\n",
    "print('\\n' + word.title() + \":\" +'\\n' + sajid_glossary[word])\n",
    "\n",
    "word = 'dictionary'\n",
    "print('\\n' + word.title() + \":\" +'\\n' + sajid_glossary[word])\n",
    "\n",
    "word = 'loop'\n",
    "print('\\n' + word.title() + \":\" +'\\n' + sajid_glossary[word])"
   ]
  }
 ],
 "metadata": {
  "kernelspec": {
   "display_name": "Python 3",
   "language": "python",
   "name": "python3"
  },
  "language_info": {
   "codemirror_mode": {
    "name": "ipython",
    "version": 3
   },
   "file_extension": ".py",
   "mimetype": "text/x-python",
   "name": "python",
   "nbconvert_exporter": "python",
   "pygments_lexer": "ipython3",
   "version": "3.11.0"
  },
  "orig_nbformat": 4,
  "vscode": {
   "interpreter": {
    "hash": "05dc08513bf3f9b7cecff5fa4ab0bb809b7f929dddcd751bd51e73c5720cd844"
   }
  }
 },
 "nbformat": 4,
 "nbformat_minor": 2
}
