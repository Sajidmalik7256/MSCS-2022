{
 "cells": [
  {
   "attachments": {},
   "cell_type": "markdown",
   "metadata": {},
   "source": [
    "6-11. Cities: Make a dictionary called cities Use the names of three cities as\n",
    "      keys in your dictionary Create a dictionary of information about each city and\n",
    "      include the country that the city is in, its approximate population, and one fact\n",
    "      about that city The keys for each city’s dictionary should be something like\n",
    "      country, population, and fact Print the name of each city and all of the information you have stored about it"
   ]
  },
  {
   "cell_type": "code",
   "execution_count": 37,
   "metadata": {},
   "outputs": [
    {
     "name": "stdout",
     "output_type": "stream",
     "text": [
      "\n",
      "Multan is in Pakistan!\n",
      "It has a population of about 1.872 Million!\n",
      "This Is City Of Saints.\n",
      "\n",
      "Multan is in Saudia!\n",
      "It has a population of about 1.5 Million!\n",
      "This Is The Holiest City Of All World Muslims. \n",
      "\n",
      "Multan is in Australia!\n",
      "It has a population of about 5.05 Million!\n",
      "This Is The Biggest City Of Autralia.\n"
     ]
    }
   ],
   "source": [
    "sajid_cities = {\n",
    "    'multan' : {\n",
    "        'countary' : 'pakistan',\n",
    "        'population' : '1.872 Million',\n",
    "        'fact' : 'this is city of saints.'\n",
    "       },\n",
    "    'madina' : {\n",
    "        'countary' : 'saudia',\n",
    "        'population' : '1.5 Million',\n",
    "        'fact' : 'this is the holiest city of all world muslims. '\n",
    "        },\n",
    "    'sydeny' : {\n",
    "       'countary' : 'australia',\n",
    "        'population' : '5.05 Million',\n",
    "        'fact' : 'this is the biggest city of autralia.'\n",
    "    }\n",
    "}\n",
    "for cities, city_info in sajid_cities.items():\n",
    "\n",
    "    #print(\"\\nCity Name: \" + cities.title())\n",
    "    #print(\"Countary: \" + city_info['countary'].title())\n",
    "    #print(\"Population: \" + city_info['population'])\n",
    "    #print(\"Fact: \" + city_info['fact'].title())\n",
    "\n",
    "    countary = city_info['countary'].title()\n",
    "    population = city_info['population']\n",
    "    facts = city_info['fact'].title()\n",
    "\n",
    "    print(\"\\n\" + city.title() + \" is in \" + countary + \"!\")\n",
    "    print(\"It has a population of about \" + str(population) + \"!\")\n",
    "    print(facts)"
   ]
  }
 ],
 "metadata": {
  "kernelspec": {
   "display_name": "Python 3",
   "language": "python",
   "name": "python3"
  },
  "language_info": {
   "codemirror_mode": {
    "name": "ipython",
    "version": 3
   },
   "file_extension": ".py",
   "mimetype": "text/x-python",
   "name": "python",
   "nbconvert_exporter": "python",
   "pygments_lexer": "ipython3",
   "version": "3.11.0 (main, Oct 24 2022, 18:26:48) [MSC v.1933 64 bit (AMD64)]"
  },
  "orig_nbformat": 4,
  "vscode": {
   "interpreter": {
    "hash": "05dc08513bf3f9b7cecff5fa4ab0bb809b7f929dddcd751bd51e73c5720cd844"
   }
  }
 },
 "nbformat": 4,
 "nbformat_minor": 2
}
