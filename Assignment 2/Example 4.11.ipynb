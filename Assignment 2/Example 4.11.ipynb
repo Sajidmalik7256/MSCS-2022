{
 "cells": [
  {
   "attachments": {},
   "cell_type": "markdown",
   "metadata": {},
   "source": [
    "4-11. My Pizzas, Your Pizzas: Start with your program from Exercise 4-1\n",
    "(page 60) Make a copy of the list of pizzas, and call it friend_pizzas\n",
    "Then, do the following:\n",
    "•\t Add a new pizza to the original list\n",
    "•\t Add a different pizza to the list friend_pizzas\n",
    "•\t Prove that you have two separate lists Print the message, My favorite\n",
    "pizzas are:, and then use a for loop to print the first list Print the message,\n",
    "My friend’s favorite pizzas are:, and then use a for loop to print the second list Make sure each new pizza\n",
    "is stored in the appropriate list"
   ]
  },
  {
   "cell_type": "code",
   "execution_count": 2,
   "metadata": {},
   "outputs": [
    {
     "name": "stdout",
     "output_type": "stream",
     "text": [
      "My favorite pizzas are:\n",
      "- Fajita\n",
      "- Chiken Tika\n",
      "- Cheese Pizza\n",
      "- meat lover's\n",
      "\n",
      "My friend favorite pizzas are:\n",
      "- Fajita\n",
      "- Chiken Tika\n",
      "- Cheese Pizza\n",
      "- pesto\n"
     ]
    }
   ],
   "source": [
    "sajid_pizzas = ['Fajita', 'Chiken Tika', 'Cheese Pizza']\n",
    "\n",
    "friend_pizzas = sajid_pizzas[:]\n",
    "\n",
    "sajid_pizzas.append(\"meat lover's\")\n",
    "friend_pizzas.append('pesto')\n",
    "\n",
    "print(\"My favorite pizzas are:\")\n",
    "for pizza in sajid_pizzas:\n",
    "    print(\"- \" + pizza)\n",
    "\n",
    "print(\"\\nMy friend favorite pizzas are:\")\n",
    "for pizza in friend_pizzas:\n",
    "    print(\"- \" + pizza)"
   ]
  }
 ],
 "metadata": {
  "kernelspec": {
   "display_name": "Python 3",
   "language": "python",
   "name": "python3"
  },
  "language_info": {
   "codemirror_mode": {
    "name": "ipython",
    "version": 3
   },
   "file_extension": ".py",
   "mimetype": "text/x-python",
   "name": "python",
   "nbconvert_exporter": "python",
   "pygments_lexer": "ipython3",
   "version": "3.11.0 (main, Oct 24 2022, 18:26:48) [MSC v.1933 64 bit (AMD64)]"
  },
  "orig_nbformat": 4,
  "vscode": {
   "interpreter": {
    "hash": "05dc08513bf3f9b7cecff5fa4ab0bb809b7f929dddcd751bd51e73c5720cd844"
   }
  }
 },
 "nbformat": 4,
 "nbformat_minor": 2
}
