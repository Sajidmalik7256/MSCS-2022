{
 "cells": [
  {
   "attachments": {},
   "cell_type": "markdown",
   "metadata": {},
   "source": [
    "4-13. Buffet: A buffet-style restaurant offers only five basic foods Think of five\n",
    "simple foods, and store them in a tuple\n",
    "•\t Use a for loop to print each food the restaurant offers\n",
    "•\t Try to modify one of the items, and make sure that Python rejects the change\n",
    "•\t The restaurant changes its menu, replacing two of the items with different\n",
    "foods Add a block of code that rewrites the tuple, and then use a for\n",
    "loop to print each of the items on the revised menu"
   ]
  },
  {
   "cell_type": "code",
   "execution_count": 1,
   "metadata": {},
   "outputs": [
    {
     "name": "stdout",
     "output_type": "stream",
     "text": [
      "You can choose from the sajid's items:\n",
      ". Sandwich\n",
      ". Nuggets\n",
      ". Burger\n",
      ". Crab cakes\n",
      ". Pizza\n",
      "\n",
      "Our manu has been updated:\n",
      "You can choose now from sajid's items:\n",
      "- Sandwich\n",
      "- Nuggets\n",
      "- Burger\n",
      "- Kabab\n",
      "- Finger Chips\n"
     ]
    }
   ],
   "source": [
    "sajid_items = ('Sandwich', 'Nuggets', 'Burger', 'Crab cakes', 'Pizza')\n",
    "print(\"You can choose from the sajid's items:\")\n",
    "for food in sajid_items:\n",
    "    print(\". \" + food)\n",
    "\n",
    "#sajid_items[0] = 'Zinger Burger'\n",
    "\n",
    "sajid_items = ('Sandwich', 'Nuggets', 'Burger', 'Kabab', 'Finger Chips')\n",
    "\n",
    "print('\\nOur manu has been updated:')\n",
    "print(\"You can choose now from sajid's items:\")\n",
    "\n",
    "for food in sajid_items:\n",
    "    print('- ' + food)"
   ]
  }
 ],
 "metadata": {
  "kernelspec": {
   "display_name": "Python 3",
   "language": "python",
   "name": "python3"
  },
  "language_info": {
   "codemirror_mode": {
    "name": "ipython",
    "version": 3
   },
   "file_extension": ".py",
   "mimetype": "text/x-python",
   "name": "python",
   "nbconvert_exporter": "python",
   "pygments_lexer": "ipython3",
   "version": "3.11.0 (main, Oct 24 2022, 18:26:48) [MSC v.1933 64 bit (AMD64)]"
  },
  "orig_nbformat": 4,
  "vscode": {
   "interpreter": {
    "hash": "05dc08513bf3f9b7cecff5fa4ab0bb809b7f929dddcd751bd51e73c5720cd844"
   }
  }
 },
 "nbformat": 4,
 "nbformat_minor": 2
}
