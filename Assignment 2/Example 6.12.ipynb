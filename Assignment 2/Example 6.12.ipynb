{
 "cells": [
  {
   "attachments": {},
   "cell_type": "markdown",
   "metadata": {},
   "source": [
    "6-12. Extensions: We’re now working with examples that are complex enough\n",
    "that they can be extended in any number of ways Use one of the example programs from this chapter, and extend it by adding new keys and values, changing the context of the program or improving the formatting of the output"
   ]
  },
  {
   "cell_type": "code",
   "execution_count": 9,
   "metadata": {},
   "outputs": [
    {
     "name": "stdout",
     "output_type": "stream",
     "text": [
      "The given items are into dictionary:\n",
      "Asad's favourite Language is: Html\n",
      "Adeel's favourite Language is: Assembly\n",
      "Kashif's favourite Language is: C#\n",
      "Sheraz's favourite Language is: Python\n",
      "\n",
      "After adding new keys and values following items are into th disctionary:\n",
      "Asad's favourite Language is --- HTML\n",
      "Adeel's favourite Language is --- ASSEMBLY\n",
      "Kashif's favourite Language is --- C#\n",
      "Sheraz's favourite Language is --- PYTHON\n",
      "Wajid's favourite Language is --- JAVA\n",
      "Azlan's favourite Language is --- PHP\n"
     ]
    }
   ],
   "source": [
    "favourite_language_sajid = {\n",
    "    'Asad' : 'HTML', \n",
    "    'Adeel' : 'Assembly', \n",
    "    'Kashif' : 'C#', \n",
    "    'Sheraz' : 'Python'\n",
    "    }\n",
    "print('The given items are into dictionary:')\n",
    "for name, language in favourite_language_sajid.items():\n",
    "    print(name.title()+ \"'s favourite Language is: \"+language.title())\n",
    "\n",
    "#Adding new keys and vaues in the dictionary\n",
    "favourite_language_sajid['Wajid'] = 'java'\n",
    "favourite_language_sajid['Azlan'] = 'php'\n",
    "print('\\nAfter adding new keys and values following items are into th disctionary:')\n",
    "for name, language in favourite_language_sajid.items():\n",
    "    print(name.title()+ \"'s favourite Language is --- \"+language.upper())"
   ]
  }
 ],
 "metadata": {
  "kernelspec": {
   "display_name": "Python 3",
   "language": "python",
   "name": "python3"
  },
  "language_info": {
   "codemirror_mode": {
    "name": "ipython",
    "version": 3
   },
   "file_extension": ".py",
   "mimetype": "text/x-python",
   "name": "python",
   "nbconvert_exporter": "python",
   "pygments_lexer": "ipython3",
   "version": "3.11.0"
  },
  "orig_nbformat": 4,
  "vscode": {
   "interpreter": {
    "hash": "05dc08513bf3f9b7cecff5fa4ab0bb809b7f929dddcd751bd51e73c5720cd844"
   }
  }
 },
 "nbformat": 4,
 "nbformat_minor": 2
}
