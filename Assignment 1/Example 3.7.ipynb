{
  "nbformat": 4,
  "nbformat_minor": 0,
  "metadata": {
    "colab": {
      "provenance": []
    },
    "kernelspec": {
      "name": "python3",
      "display_name": "Python 3"
    },
    "language_info": {
      "name": "python"
    }
  },
  "cells": [
    {
      "cell_type": "code",
      "execution_count": null,
      "metadata": {
        "id": "tqqJUOrcX2Ee"
      },
      "outputs": [],
      "source": []
    },
    {
      "cell_type": "markdown",
      "source": [
        "# Assignment **1**\n",
        "\n"
      ],
      "metadata": {
        "id": "oPBi8x0AgRZ7"
      }
    },
    {
      "cell_type": "markdown",
      "source": [
        "**3-7.** Shrinking Guest List: You just found out that your new dinner table won’t\n",
        "arrive in time for the dinner, and you have space for only two guests\n",
        "\n",
        "\n",
        "\n",
        "*  Start with your program from Exercise 3-6 Add a new line that prints a\n",
        "   message saying that you can invite only two people for dinner.\n",
        "*  Use pop() to remove guests from your list one at a time until only two\n",
        "   names remain in your list Each time you pop a name from your list, print\n",
        "   a message to that person letting them know you’re sorry you can’t invite\n",
        "   them to dinner.\n",
        "*  Print a message to each of the two people still on your list, letting them\n",
        "   know they’re still invited.\n",
        "*  Use del to remove the last two names from your list, so you have an empty\n",
        "   list Print your list to make sure you actually have an empty list at the end\n",
        "   of your program.\t \n"
      ],
      "metadata": {
        "id": "-t0TkWCOgeyp"
      }
    },
    {
      "cell_type": "code",
      "source": [
        "guest_sajid = ['Taha', 'Asad', 'Ateeq']\n",
        "\n",
        "name = guest_sajid[0].title()\n",
        "print(name + \",You are requested to come to dinner.\")\n",
        "\n",
        "name = guest_sajid[1].title()\n",
        "print(name+\",You are requested to come to dinner.\")\n",
        "\n",
        "name = guest_sajid[2].title()\n",
        "print(name + \",You are requested to come to dinner.\")\n",
        "\n",
        "name = guest_sajid[1].title()\n",
        "print(\"\\nsorry, \" + name + \"can't make it to dinner.\")\n",
        "\n",
        "# Asad can't make it! Let's invite Azlan instead.\n",
        "\n",
        "del(guest_sajid[1])\n",
        "guest_sajid.insert(1, 'Azlan')\n",
        "\n",
        "#print invitation again.\n",
        "\n",
        "name = guest_sajid[0].title()\n",
        "print(\"\\n\" + name + \"You are requested to come to dinner.\")\n",
        "\n",
        "name = guest_sajid[1].title()\n",
        "print(name + \",You are requested to come to dinner.\")\n",
        "\n",
        "name = guest_sajid[2].title()\n",
        "print(name + \",You are requested to come to dinner\")\n",
        "\n",
        "#We got a bigger table, so let add more people into list.\n",
        "\n",
        "print(\"\\nwe got a bigger table!\")\n",
        "guest_sajid.insert(0, 'Hamid')\n",
        "guest_sajid.insert(2, 'Dilshad')\n",
        "guest_sajid.append('Adeel')\n",
        "\n",
        "name = guest_sajid[0].title()\n",
        "print(name + \",You are requested to come to dinner.\")\n",
        "\n",
        "name = guest_sajid[1].title()\n",
        "print(name + \",You are requested to come to dinner.\")\n",
        "\n",
        "name = guest_sajid[2].title()\n",
        "print(name + \",You are requested to come to dinner.\")\n",
        "\n",
        "name = guest_sajid[3].title()\n",
        "print(name + \",You are requested to come to dinner.\")\n",
        "\n",
        "name = guest_sajid[4].title()\n",
        "print(name + \", You are requested to come to dinner.\")\n",
        "\n",
        "name = guest_sajid[5].title()\n",
        "print(name + \", You are requested to come to dinner.\")\n",
        "\n",
        "# Oh no, the table won't arrive on time for dinner!\n",
        "\n",
        "print(\"\\nSorry, we can only invite two people to dinner\")\n",
        "\n",
        "name = guest_sajid.pop()\n",
        "print(\"Sorry,\" + name.title() + \" there's no room at the table.\")\n",
        "\n",
        "name = guest_sajid.pop()\n",
        "print(\"Sorry,\" + name.title() + \" there's no room at the table.\")\n",
        "\n",
        "name = guest_sajid.pop()\n",
        "print(\"Sorry,\" + name.title() + \" there's no room at the table.\")\n",
        "\n",
        "# There should be two people left. Let's invite them.\n",
        "\n",
        "name = guest_sajid[0].title()\n",
        "print(name + \", You are requested to come to dinner.\")\n",
        "\n",
        "name = guest_sajid[1].title()\n",
        "print(name + \", You are requested to come to dinner.\")\n",
        "\n",
        "#Empty out the list\n",
        "\n",
        "del(guest_sajid[0])\n",
        "del(guest_sajid[0])\n",
        "\n",
        "#Prove the list is empty\n",
        "print(guest_sajid)"
      ],
      "metadata": {
        "id": "a7O-ESJygcY1",
        "colab": {
          "base_uri": "https://localhost:8080/"
        },
        "outputId": "d63f4bab-b37d-43d9-c862-77720e20fe84"
      },
      "execution_count": 7,
      "outputs": [
        {
          "output_type": "stream",
          "name": "stdout",
          "text": [
            "Taha,You are requested to come to dinner.\n",
            "Asad,You are requested to come to dinner.\n",
            "Ateeq,You are requested to come to dinner.\n",
            "\n",
            "sorry, Asadcan't make it to dinner.\n",
            "\n",
            "TahaYou are requested to come to dinner.\n",
            "Azlan,You are requested to come to dinner.\n",
            "Ateeq,You are requested to come to dinner\n",
            "\n",
            "we got a bigger table!\n",
            "Hamid,You are requested to come to dinner.\n",
            "Taha,You are requested to come to dinner.\n",
            "Dilshad,You are requested to come to dinner.\n",
            "Azlan,You are requested to come to dinner.\n",
            "Ateeq, You are requested to come to dinner.\n",
            "Adeel, You are requested to come to dinner.\n",
            "\n",
            "Sorry, we can only invite two people to dinner\n",
            "Sorry,Adeelthere's no room at the table.\n",
            "Sorry,Ateeqthere's no room at the table.\n",
            "Sorry,Azlanthere's no room at the table.\n",
            "Hamid, You are requested to come to dinner.\n",
            "Taha, You are requested to come to dinner.\n",
            "['Dilshad']\n"
          ]
        }
      ]
    },
    {
      "cell_type": "markdown",
      "source": [],
      "metadata": {
        "id": "TWTldADDgMKN"
      }
    }
  ]
}