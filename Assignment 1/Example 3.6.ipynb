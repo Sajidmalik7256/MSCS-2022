{
  "nbformat": 4,
  "nbformat_minor": 0,
  "metadata": {
    "colab": {
      "provenance": []
    },
    "kernelspec": {
      "name": "python3",
      "display_name": "Python 3"
    },
    "language_info": {
      "name": "python"
    }
  },
  "cells": [
    {
      "cell_type": "code",
      "execution_count": null,
      "metadata": {
        "id": "tqqJUOrcX2Ee"
      },
      "outputs": [],
      "source": []
    },
    {
      "cell_type": "markdown",
      "source": [
        "# Assignment **1**\n",
        "\n"
      ],
      "metadata": {
        "id": "oPBi8x0AgRZ7"
      }
    },
    {
      "cell_type": "markdown",
      "source": [
        "**3-6.** More Guests: You just found a bigger dinner table, so now more space is\n",
        "available Think of three more guests to invite to dinner\n",
        "* Start with your program from Exercise 3-4 or Exercise 3-5 Add a print\n",
        "statement to the end of your program informing people that you found a\n",
        "bigger dinner table\n",
        "* Use insert() to add one new guest to the beginning of your list\n",
        "\n",
        "\n",
        "* Use insert() to add one new guest to the middle of your list\n",
        "* Use append() to add one new guest to the end of your list\n",
        "\n",
        "\n",
        "* Print a new set of invitation messages, one for each person in your list\n"
      ],
      "metadata": {
        "id": "-t0TkWCOgeyp"
      }
    },
    {
      "cell_type": "code",
      "source": [
        "guest_sajid = ['Taha', 'Asad', 'Ateeq']\n",
        "\n",
        "name = guest_sajid[0].title()\n",
        "print(name + \",You are requested to come to dinner.\")\n",
        "\n",
        "name = guest_sajid[1].title()\n",
        "print(name+\",You are requested to come to dinner.\")\n",
        "\n",
        "name = guest_sajid[2].title()\n",
        "print(name + \",You are requested to come to dinner.\")\n",
        "\n",
        "name = guest_sajid[1].title()\n",
        "print(\"\\nsorry, \" + name + \"can't make it to dinner.\")\n",
        "\n",
        "# Asad can't make it! Let's invite Azlan instead.\n",
        "\n",
        "del(guest_sajid[1])\n",
        "guest_sajid.insert(1, 'Azlan')\n",
        "\n",
        "#print invitation again.\n",
        "\n",
        "name = guest_sajid[0].title()\n",
        "print(\"\\n\" + name + \"You are requested to come to dinner.\")\n",
        "\n",
        "name = guest_sajid[1].title()\n",
        "print(name + \",You are requested to come to dinner.\")\n",
        "\n",
        "name = guest_sajid[2].title()\n",
        "print(name + \",You are requested to come to dinner\")\n",
        "\n",
        "#We got a bigger table, so let add more people into list.\n",
        "\n",
        "print(\"\\nwe got a bigger table!\")\n",
        "guest_sajid.insert(0, 'Hamid')\n",
        "guest_sajid.insert(2, 'Dilshad')\n",
        "guest_sajid.append('Adeel')\n",
        "\n",
        "name = guest_sajid[0].title()\n",
        "print(name + \",You are requested to come to dinner.\")\n",
        "\n",
        "name = guest_sajid[1].title()\n",
        "print(name + \",You are requested to come to dinner.\")\n",
        "\n",
        "name = guest_sajid[2].title()\n",
        "print(name + \",You are requested to come to dinner.\")\n",
        "\n",
        "name = guest_sajid[3].title()\n",
        "print(name + \",You are requested to come to dinner.\")\n",
        "\n",
        "name = guest_sajid[4].title()\n",
        "print(name + \",You are requested to come to dinner.\")\n",
        "\n",
        "name = guest_sajid[5].title()\n",
        "print(name + \",You are requested to come to dinner.\")"
      ],
      "metadata": {
        "id": "a7O-ESJygcY1",
        "colab": {
          "base_uri": "https://localhost:8080/"
        },
        "outputId": "2ab3953e-cf15-46e0-eb35-c02ce98ce9c3"
      },
      "execution_count": 5,
      "outputs": [
        {
          "output_type": "stream",
          "name": "stdout",
          "text": [
            "Taha,You are requested to come to dinner.\n",
            "Asad,You are requested to come to dinner.\n",
            "Ateeq,You are requested to come to dinner.\n",
            "\n",
            "sorry, Asadcan't make it to dinner.\n",
            "\n",
            "TahaYou are requested to come to dinner.\n",
            "Azlan,You are requested to come to dinner.\n",
            "Ateeq,You are requested to come to dinner\n",
            "\n",
            "we got a bigger table!\n",
            "Hamid,You are requested to come to dinner.\n",
            "Taha,You are requested to come to dinner.\n",
            "Dilshad,You are requested to come to dinner.\n",
            "Azlan,You are requested to come to dinner.\n",
            "Ateeq,You are requested to come to dinner.\n",
            "Adeel,You are requested to come to dinner.\n"
          ]
        }
      ]
    },
    {
      "cell_type": "markdown",
      "source": [],
      "metadata": {
        "id": "TWTldADDgMKN"
      }
    }
  ]
}