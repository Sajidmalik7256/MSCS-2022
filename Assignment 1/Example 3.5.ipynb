{
  "nbformat": 4,
  "nbformat_minor": 0,
  "metadata": {
    "colab": {
      "provenance": []
    },
    "kernelspec": {
      "name": "python3",
      "display_name": "Python 3"
    },
    "language_info": {
      "name": "python"
    }
  },
  "cells": [
    {
      "cell_type": "code",
      "execution_count": null,
      "metadata": {
        "id": "tqqJUOrcX2Ee"
      },
      "outputs": [],
      "source": []
    },
    {
      "cell_type": "markdown",
      "source": [
        "# Assignment **1**\n",
        "\n"
      ],
      "metadata": {
        "id": "oPBi8x0AgRZ7"
      }
    },
    {
      "cell_type": "markdown",
      "source": [
        "3.5-You just heard that one of your guests can’t make the dinner, so you need to send out a new set of invitations. You’ll have to think of someone else to invite.\n",
        "* Start with your program from Exercise 3-4. Add a print statement at the end  of your program stating the name of the guest who can’t make it.\n",
        "*  Modify your list, replacing the name of the guest who can’t make it with the name of the new person you are inviting. \n",
        "\n",
        "* Print a second set of invitation messages, one for each person who is still in your list.\n",
        "\n"
      ],
      "metadata": {
        "id": "-t0TkWCOgeyp"
      }
    },
    {
      "cell_type": "markdown",
      "source": [],
      "metadata": {
        "id": "Qac9WBGTgydJ"
      }
    },
    {
      "cell_type": "code",
      "source": [
        "guest_sajid = ['Taha', 'Asad', 'Ateeq']\n",
        "\n",
        "name = guest_sajid[0].title()\n",
        "print(name + \",You are requested to come to dinner.\")\n",
        "\n",
        "name = guest_sajid[1].title()\n",
        "print(name+\",You are requested to come to dinner.\")\n",
        "\n",
        "name = guest_sajid[2].title()\n",
        "print(name + \",You are requested to come to dinner.\")\n",
        "\n",
        "name = guest_sajid[1].title()\n",
        "print(\"\\nsorry, \" + name + \"can't make it to dinner.\")\n",
        "\n",
        "# Asad can't make it! Let's invite Azlan instead.\n",
        "\n",
        "del(guest_sajid[1])\n",
        "guest_sajid.insert(1, 'Azlan')\n",
        "\n",
        "#print invitation again.\n",
        "\n",
        "name = guest_sajid[0].title()\n",
        "print(\"\\n\" + name + \"You are requested to come to dinner.\")\n",
        "\n",
        "name = guest_sajid[1].title()\n",
        "print(name + \",You are requested to come to dinner.\")\n",
        "\n",
        "name = guest_sajid[2].title()\n",
        "print(name + \",You are requested to come to dinner\")\n",
        "\n"
      ],
      "metadata": {
        "id": "a7O-ESJygcY1"
      },
      "execution_count": null,
      "outputs": []
    },
    {
      "cell_type": "markdown",
      "source": [],
      "metadata": {
        "id": "TWTldADDgMKN"
      }
    }
  ]
}